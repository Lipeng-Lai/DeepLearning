{
 "cells": [
  {
   "cell_type": "markdown",
   "metadata": {},
   "source": [
    "## Softmax及其导数\n",
    "\n",
    "$$\n",
    "l(y, \\hat y) = -\\sum_{j=1}^q y_j \\log \\frac{e^{o_j}}{\\sum_{k=1}^q e^{o_k}} \\\\\n",
    "= \\sum_{j=1}^q y_j \\log \\sum_{k=1}^q e^{o_k} - \\sum_{j=1}^qy_jo_j \\\\\n",
    "= \\log\\sum_{k=1}^q e^{o_k} - \\sum_{j=1}^q y_j o_j\n",
    "$$"
   ]
  },
  {
   "cell_type": "code",
   "execution_count": null,
   "metadata": {},
   "outputs": [],
   "source": []
  }
 ],
 "metadata": {
  "language_info": {
   "name": "python"
  },
  "orig_nbformat": 4
 },
 "nbformat": 4,
 "nbformat_minor": 2
}
