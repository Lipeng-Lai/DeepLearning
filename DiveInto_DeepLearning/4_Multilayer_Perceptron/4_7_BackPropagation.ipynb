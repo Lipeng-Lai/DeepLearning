{
 "cells": [
  {
   "cell_type": "markdown",
   "metadata": {},
   "source": [
    "## 前向传播\n",
    "\n",
    "$$\n",
    "z = W^{(1)} x \\\\ \n",
    "\\\\\n",
    "h = \\phi(z) \\\\\n",
    "\\\\\n",
    "o = W^{(2)}h \\\\\n",
    "\\\\\n",
    "L = l(o, y) \\\\\n",
    "\\\\\n",
    "正则项为： s = \\frac{\\lambda}{2}(||W^{(1)}||^2 + ||W^{(2)}||^2) \\\\\n",
    "\\\\\n",
    "\n",
    "正则化损失为：J = L + s\n",
    "称J为目标函数\n",
    "$$"
   ]
  },
  {
   "cell_type": "markdown",
   "metadata": {},
   "source": [
    "## 反向传播\n",
    "\n",
    "$$\n",
    "J = L + s \\\\\n",
    "\\frac{\\partial J}{\\partial L} = 1 \\, and \\, \\frac{\\partial J}{\\partial s} = 1 \\\\\n",
    "\n",
    "\n",
    "$$\n",
    "\n",
    "对于$L$有\n",
    "$$\n",
    "\\frac{\\partial J}{\\partial o} = prod(\\frac{\\partial J}{\\partial L}, \\frac{\\partial L}{\\partial o}) = \\frac{\\partial L}{\\partial o} \\\\ \\\\\n",
    "\n",
    "$$\n",
    "对于$s$有\n",
    "$$\n",
    "\\frac{\\partial s}{\\partial W^{(1)}} = \\lambda W^{(1)} \\, and \\, \\frac{\\partial s}{\\partial W^{(2)}} = \\lambda W^{(2)}\n",
    "$$\n",
    "....\n",
    "\n",
    "可以得到最接近输出层的模型参数的梯度\n",
    "$$\n",
    "\\frac{\\partial s}{\\partial W^{(2)}} = \\frac{\\partial J}{\\partial o}h^T + \\lambda W^{(2)}\n",
    "$$\n",
    "最后可以得到，最接近输入层的模型参数的梯度\n",
    "$$\n",
    "\\frac{\\partial J}{\\partial W^{(1)}} = \\frac{\\partial J}{\\partial z}x^T + \\lambda W^{(1)}\n",
    "$$\n"
   ]
  }
 ],
 "metadata": {
  "language_info": {
   "name": "python"
  },
  "orig_nbformat": 4
 },
 "nbformat": 4,
 "nbformat_minor": 2
}
