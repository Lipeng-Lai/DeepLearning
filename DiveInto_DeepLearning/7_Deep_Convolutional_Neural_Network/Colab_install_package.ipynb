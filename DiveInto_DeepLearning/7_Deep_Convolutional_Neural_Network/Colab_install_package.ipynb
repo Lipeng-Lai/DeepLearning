{
 "cells": [
  {
   "cell_type": "code",
   "execution_count": null,
   "metadata": {},
   "outputs": [],
   "source": [
    "import os, sys \n",
    "# 挂载google drive\n",
    "from google.colab import drive \n",
    "drive.mount('/content/gdrive') \n",
    " \n",
    "nb_path = '/content/notebooks'\n",
    "os.symlink('/content/gdrive/My Drive/Colab Notebooks', nb_path)\n",
    "sys.path.insert(0, nb_path)  # or append(nb_path)\n",
    "\n",
    "# 将安装包安装到指定路径（这里安装到Colab Notebooks/python_package目录下）\n",
    "# !pip install --target=$nb_path d2l \n",
    "\n",
    "\"\"\"\n",
    "以后每新建一个ipynb,粘贴以下代码段至文件开头并运行，即可使用python_package中的模块\n",
    "import sys\n",
    "from google.colab import drive\n",
    "drive.mount('/content/gdrive')\n",
    "sys.path.insert(0,\"/content/gdrive/My Drive/Colab Notebooks/python_package/\")\n",
    "\"\"\""
   ]
  }
 ],
 "metadata": {
  "language_info": {
   "name": "python"
  },
  "orig_nbformat": 4
 },
 "nbformat": 4,
 "nbformat_minor": 2
}
