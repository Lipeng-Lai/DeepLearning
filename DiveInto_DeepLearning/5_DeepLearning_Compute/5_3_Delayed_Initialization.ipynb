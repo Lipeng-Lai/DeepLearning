{
 "cells": [
  {
   "cell_type": "code",
   "execution_count": 1,
   "metadata": {},
   "outputs": [
    {
     "name": "stdout",
     "output_type": "stream",
     "text": [
      "Sequential(\n",
      "  (0): LazyLinear(in_features=0, out_features=256, bias=True)\n",
      "  (1): ReLU()\n",
      "  (2): Linear(in_features=256, out_features=10, bias=True)\n",
      ")\n",
      "Sequential(\n",
      "  (0): Linear(in_features=20, out_features=256, bias=True)\n",
      "  (1): ReLU()\n",
      "  (2): Linear(in_features=256, out_features=10, bias=True)\n",
      ")\n"
     ]
    },
    {
     "name": "stderr",
     "output_type": "stream",
     "text": [
      "c:\\Users\\24248\\miniconda3\\lib\\site-packages\\torch\\nn\\modules\\lazy.py:180: UserWarning: Lazy modules are a new feature under heavy development so changes to the API or functionality can happen at any moment.\n",
      "  warnings.warn('Lazy modules are a new feature under heavy development '\n"
     ]
    }
   ],
   "source": [
    "import torch\n",
    "from torch import nn\n",
    "net = nn.Sequential(nn.LazyLinear(256), nn.ReLU(),nn.Linear(256,10))\n",
    "print(net)\n",
    "[net[i].state_dict() for i in range(len(net))]\n",
    "low = torch.finfo(torch.float32).min/10\n",
    "high = torch.finfo(torch.float32).max/10\n",
    "X = torch.zeros([2,20],dtype=torch.float32).uniform_(low, high)\n",
    "net(X)\n",
    "print(net)"
   ]
  },
  {
   "cell_type": "code",
   "execution_count": 4,
   "metadata": {},
   "outputs": [],
   "source": [
    "import tensorflow as tf\n",
    "\n",
    "net = tf.keras.models.Sequential([\n",
    "    tf.keras.layers.Dense(256, activation=tf.nn.relu),\n",
    "    tf.keras.layers.Dense(10),\n",
    "])"
   ]
  },
  {
   "cell_type": "code",
   "execution_count": 5,
   "metadata": {},
   "outputs": [
    {
     "data": {
      "text/plain": [
       "[[], []]"
      ]
     },
     "execution_count": 5,
     "metadata": {},
     "output_type": "execute_result"
    }
   ],
   "source": [
    "[net.layers[i].get_weights() for i in range(len(net.layers))]"
   ]
  },
  {
   "cell_type": "code",
   "execution_count": 6,
   "metadata": {},
   "outputs": [
    {
     "ename": "ValueError",
     "evalue": "Weights for model 'sequential_1' have not yet been created. Weights are created when the model is first called on inputs or `build()` is called with an `input_shape`.",
     "output_type": "error",
     "traceback": [
      "\u001b[1;31m---------------------------------------------------------------------------\u001b[0m",
      "\u001b[1;31mValueError\u001b[0m                                Traceback (most recent call last)",
      "Cell \u001b[1;32mIn[6], line 1\u001b[0m\n\u001b[1;32m----> 1\u001b[0m net\u001b[39m.\u001b[39;49mget_weights()\n",
      "File \u001b[1;32mc:\\Users\\24248\\miniconda3\\lib\\site-packages\\keras\\src\\engine\\training.py:2944\u001b[0m, in \u001b[0;36mModel.get_weights\u001b[1;34m(self)\u001b[0m\n\u001b[0;32m   2938\u001b[0m \u001b[39m\u001b[39m\u001b[39m\"\"\"Retrieves the weights of the model.\u001b[39;00m\n\u001b[0;32m   2939\u001b[0m \n\u001b[0;32m   2940\u001b[0m \u001b[39mReturns:\u001b[39;00m\n\u001b[0;32m   2941\u001b[0m \u001b[39m    A flat list of Numpy arrays.\u001b[39;00m\n\u001b[0;32m   2942\u001b[0m \u001b[39m\"\"\"\u001b[39;00m\n\u001b[0;32m   2943\u001b[0m \u001b[39mwith\u001b[39;00m \u001b[39mself\u001b[39m\u001b[39m.\u001b[39mdistribute_strategy\u001b[39m.\u001b[39mscope():\n\u001b[1;32m-> 2944\u001b[0m     \u001b[39mreturn\u001b[39;00m \u001b[39msuper\u001b[39;49m()\u001b[39m.\u001b[39;49mget_weights()\n",
      "File \u001b[1;32mc:\\Users\\24248\\miniconda3\\lib\\site-packages\\keras\\src\\engine\\base_layer.py:1881\u001b[0m, in \u001b[0;36mLayer.get_weights\u001b[1;34m(self)\u001b[0m\n\u001b[0;32m   1846\u001b[0m \u001b[39mdef\u001b[39;00m \u001b[39mget_weights\u001b[39m(\u001b[39mself\u001b[39m):\n\u001b[0;32m   1847\u001b[0m \u001b[39m    \u001b[39m\u001b[39m\"\"\"Returns the current weights of the layer, as NumPy arrays.\u001b[39;00m\n\u001b[0;32m   1848\u001b[0m \n\u001b[0;32m   1849\u001b[0m \u001b[39m    The weights of a layer represent the state of the layer. This function\u001b[39;00m\n\u001b[1;32m   (...)\u001b[0m\n\u001b[0;32m   1879\u001b[0m \u001b[39m        Weights values as a list of NumPy arrays.\u001b[39;00m\n\u001b[0;32m   1880\u001b[0m \u001b[39m    \"\"\"\u001b[39;00m\n\u001b[1;32m-> 1881\u001b[0m     weights \u001b[39m=\u001b[39m \u001b[39mself\u001b[39;49m\u001b[39m.\u001b[39;49mweights\n\u001b[0;32m   1882\u001b[0m     output_weights \u001b[39m=\u001b[39m []\n\u001b[0;32m   1883\u001b[0m     \u001b[39mfor\u001b[39;00m weight \u001b[39min\u001b[39;00m weights:\n",
      "File \u001b[1;32mc:\\Users\\24248\\miniconda3\\lib\\site-packages\\keras\\src\\engine\\training.py:3351\u001b[0m, in \u001b[0;36mModel.weights\u001b[1;34m(self)\u001b[0m\n\u001b[0;32m   3341\u001b[0m \u001b[39m@property\u001b[39m\n\u001b[0;32m   3342\u001b[0m \u001b[39mdef\u001b[39;00m \u001b[39mweights\u001b[39m(\u001b[39mself\u001b[39m):\n\u001b[0;32m   3343\u001b[0m \u001b[39m    \u001b[39m\u001b[39m\"\"\"Returns the list of all layer variables/weights.\u001b[39;00m\n\u001b[0;32m   3344\u001b[0m \n\u001b[0;32m   3345\u001b[0m \u001b[39m    Note: This will not track the weights of nested `tf.Modules` that are\u001b[39;00m\n\u001b[1;32m   (...)\u001b[0m\n\u001b[0;32m   3349\u001b[0m \u001b[39m      A list of variables.\u001b[39;00m\n\u001b[0;32m   3350\u001b[0m \u001b[39m    \"\"\"\u001b[39;00m\n\u001b[1;32m-> 3351\u001b[0m     \u001b[39mreturn\u001b[39;00m \u001b[39mself\u001b[39m\u001b[39m.\u001b[39m_dedup_weights(\u001b[39mself\u001b[39;49m\u001b[39m.\u001b[39;49m_undeduplicated_weights)\n",
      "File \u001b[1;32mc:\\Users\\24248\\miniconda3\\lib\\site-packages\\keras\\src\\engine\\training.py:3356\u001b[0m, in \u001b[0;36mModel._undeduplicated_weights\u001b[1;34m(self)\u001b[0m\n\u001b[0;32m   3353\u001b[0m \u001b[39m@property\u001b[39m\n\u001b[0;32m   3354\u001b[0m \u001b[39mdef\u001b[39;00m \u001b[39m_undeduplicated_weights\u001b[39m(\u001b[39mself\u001b[39m):\n\u001b[0;32m   3355\u001b[0m \u001b[39m    \u001b[39m\u001b[39m\"\"\"Returns the undeduplicated list of all layer variables/weights.\"\"\"\u001b[39;00m\n\u001b[1;32m-> 3356\u001b[0m     \u001b[39mself\u001b[39;49m\u001b[39m.\u001b[39;49m_assert_weights_created()\n\u001b[0;32m   3357\u001b[0m     weights \u001b[39m=\u001b[39m []\n\u001b[0;32m   3358\u001b[0m     \u001b[39mfor\u001b[39;00m layer \u001b[39min\u001b[39;00m \u001b[39mself\u001b[39m\u001b[39m.\u001b[39m_self_tracked_trackables:\n",
      "File \u001b[1;32mc:\\Users\\24248\\miniconda3\\lib\\site-packages\\keras\\src\\engine\\sequential.py:516\u001b[0m, in \u001b[0;36mSequential._assert_weights_created\u001b[1;34m(self)\u001b[0m\n\u001b[0;32m    513\u001b[0m     \u001b[39mreturn\u001b[39;00m\n\u001b[0;32m    514\u001b[0m \u001b[39m# When the graph has not been initialized, use the Model's\u001b[39;00m\n\u001b[0;32m    515\u001b[0m \u001b[39m# implementation to to check if the weights has been created.\u001b[39;00m\n\u001b[1;32m--> 516\u001b[0m \u001b[39msuper\u001b[39;49m(functional\u001b[39m.\u001b[39;49mFunctional, \u001b[39mself\u001b[39;49m)\u001b[39m.\u001b[39;49m_assert_weights_created()\n",
      "File \u001b[1;32mc:\\Users\\24248\\miniconda3\\lib\\site-packages\\keras\\src\\engine\\training.py:3730\u001b[0m, in \u001b[0;36mModel._assert_weights_created\u001b[1;34m(self)\u001b[0m\n\u001b[0;32m   3719\u001b[0m     \u001b[39mreturn\u001b[39;00m\n\u001b[0;32m   3721\u001b[0m \u001b[39mif\u001b[39;00m (\n\u001b[0;32m   3722\u001b[0m     \u001b[39m\"\u001b[39m\u001b[39mbuild\u001b[39m\u001b[39m\"\u001b[39m \u001b[39min\u001b[39;00m \u001b[39mself\u001b[39m\u001b[39m.\u001b[39m\u001b[39m__class__\u001b[39m\u001b[39m.\u001b[39m\u001b[39m__dict__\u001b[39m\n\u001b[0;32m   3723\u001b[0m     \u001b[39mand\u001b[39;00m \u001b[39mself\u001b[39m\u001b[39m.\u001b[39m\u001b[39m__class__\u001b[39m \u001b[39m!=\u001b[39m Model\n\u001b[1;32m   (...)\u001b[0m\n\u001b[0;32m   3728\u001b[0m     \u001b[39m# Also make sure to exclude Model class itself which has build()\u001b[39;00m\n\u001b[0;32m   3729\u001b[0m     \u001b[39m# defined.\u001b[39;00m\n\u001b[1;32m-> 3730\u001b[0m     \u001b[39mraise\u001b[39;00m \u001b[39mValueError\u001b[39;00m(\n\u001b[0;32m   3731\u001b[0m         \u001b[39mf\u001b[39m\u001b[39m\"\u001b[39m\u001b[39mWeights for model \u001b[39m\u001b[39m'\u001b[39m\u001b[39m{\u001b[39;00m\u001b[39mself\u001b[39m\u001b[39m.\u001b[39mname\u001b[39m}\u001b[39;00m\u001b[39m'\u001b[39m\u001b[39m have not yet been \u001b[39m\u001b[39m\"\u001b[39m\n\u001b[0;32m   3732\u001b[0m         \u001b[39m\"\u001b[39m\u001b[39mcreated. \u001b[39m\u001b[39m\"\u001b[39m\n\u001b[0;32m   3733\u001b[0m         \u001b[39m\"\u001b[39m\u001b[39mWeights are created when the model is first called on \u001b[39m\u001b[39m\"\u001b[39m\n\u001b[0;32m   3734\u001b[0m         \u001b[39m\"\u001b[39m\u001b[39minputs or `build()` is called with an `input_shape`.\u001b[39m\u001b[39m\"\u001b[39m\n\u001b[0;32m   3735\u001b[0m     )\n",
      "\u001b[1;31mValueError\u001b[0m: Weights for model 'sequential_1' have not yet been created. Weights are created when the model is first called on inputs or `build()` is called with an `input_shape`."
     ]
    }
   ],
   "source": [
    "net.get_weights()"
   ]
  },
  {
   "cell_type": "code",
   "execution_count": 7,
   "metadata": {},
   "outputs": [
    {
     "data": {
      "text/plain": [
       "[(20, 256), (256,), (256, 10), (10,)]"
      ]
     },
     "execution_count": 7,
     "metadata": {},
     "output_type": "execute_result"
    }
   ],
   "source": [
    "X = tf.random.uniform((2, 20))\n",
    "net(X)\n",
    "[w.shape for w in net.get_weights()]"
   ]
  }
 ],
 "metadata": {
  "kernelspec": {
   "display_name": "base",
   "language": "python",
   "name": "python3"
  },
  "language_info": {
   "codemirror_mode": {
    "name": "ipython",
    "version": 3
   },
   "file_extension": ".py",
   "mimetype": "text/x-python",
   "name": "python",
   "nbconvert_exporter": "python",
   "pygments_lexer": "ipython3",
   "version": "3.10.12"
  },
  "orig_nbformat": 4
 },
 "nbformat": 4,
 "nbformat_minor": 2
}
